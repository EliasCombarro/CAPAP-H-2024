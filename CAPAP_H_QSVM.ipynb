{
  "cells": [
    {
      "cell_type": "markdown",
      "id": "398a1114",
      "metadata": {
        "id": "398a1114"
      },
      "source": [
        "# QUANTUM SUPPORT VECTOR MACHINES"
      ]
    },
    {
      "cell_type": "code",
      "execution_count": null,
      "id": "2e9d0203",
      "metadata": {
        "id": "2e9d0203"
      },
      "outputs": [],
      "source": [
        "pip install pennylane==0.26"
      ]
    },
    {
      "cell_type": "code",
      "execution_count": null,
      "id": "6d229d9c",
      "metadata": {
        "id": "6d229d9c"
      },
      "outputs": [],
      "source": [
        "import numpy as np\n",
        "\n",
        "seed = 1234\n",
        "np.random.seed(seed)"
      ]
    },
    {
      "cell_type": "code",
      "execution_count": null,
      "id": "146e2244",
      "metadata": {
        "id": "146e2244"
      },
      "outputs": [],
      "source": [
        "from sklearn.datasets import load_wine\n",
        "\n",
        "x,y = load_wine(return_X_y = True)"
      ]
    },
    {
      "cell_type": "code",
      "execution_count": null,
      "id": "23834185",
      "metadata": {
        "id": "23834185"
      },
      "outputs": [],
      "source": [
        "x = x[:59+71]\n",
        "y = y[:59+71]"
      ]
    },
    {
      "cell_type": "code",
      "execution_count": null,
      "id": "e189199b",
      "metadata": {
        "id": "e189199b"
      },
      "outputs": [],
      "source": [
        "from sklearn.model_selection import train_test_split\n",
        "\n",
        "x_tr, x_test, y_tr, y_test = train_test_split(x, y, train_size = 0.9)"
      ]
    },
    {
      "cell_type": "code",
      "execution_count": null,
      "id": "56a1e1d4",
      "metadata": {
        "id": "56a1e1d4"
      },
      "outputs": [],
      "source": [
        "from sklearn.preprocessing import MaxAbsScaler\n",
        "\n",
        "scaler = MaxAbsScaler()\n",
        "x_tr = scaler.fit_transform(x_tr)"
      ]
    },
    {
      "cell_type": "code",
      "execution_count": null,
      "id": "e6ec7bf5",
      "metadata": {
        "id": "e6ec7bf5"
      },
      "outputs": [],
      "source": [
        "x_test = scaler.transform(x_test)\n",
        "x_test = np.clip(x_test,-1,1)"
      ]
    },
    {
      "cell_type": "code",
      "execution_count": null,
      "id": "7a28e035",
      "metadata": {
        "id": "7a28e035"
      },
      "outputs": [],
      "source": [
        "import pennylane as qml\n",
        "\n",
        "nqubits = 4\n",
        "dev = qml.device(\"lightning.qubit\", wires = nqubits)\n",
        "\n",
        "@qml.qnode(dev)\n",
        "def kernel_circ(a, b):\n",
        "    qml.AmplitudeEmbedding(\n",
        "        a, wires=range(nqubits), pad_with=0, normalize=True)\n",
        "    qml.adjoint(qml.AmplitudeEmbedding(\n",
        "        b, wires=range(nqubits), pad_with=0, normalize=True))\n",
        "    return qml.probs(wires = range(nqubits))"
      ]
    },
    {
      "cell_type": "code",
      "execution_count": null,
      "id": "50f14380",
      "metadata": {
        "id": "50f14380"
      },
      "outputs": [],
      "source": [
        "from sklearn.svm import SVC\n",
        "def qkernel(A, B):\n",
        "    return np.array([[kernel_circ(a, b)[0] for b in B] for a in A])\n",
        "\n",
        "svm = SVC(kernel = qkernel).fit(x_tr, y_tr)"
      ]
    },
    {
      "cell_type": "code",
      "execution_count": null,
      "id": "8688dcaf",
      "metadata": {
        "id": "8688dcaf"
      },
      "outputs": [],
      "source": [
        "from sklearn.metrics import accuracy_score\n",
        "\n",
        "print(accuracy_score(svm.predict(x_test), y_test))"
      ]
    }
  ],
  "metadata": {
    "kernelspec": {
      "display_name": "Python 3 (ipykernel)",
      "language": "python",
      "name": "python3"
    },
    "language_info": {
      "codemirror_mode": {
        "name": "ipython",
        "version": 3
      },
      "file_extension": ".py",
      "mimetype": "text/x-python",
      "name": "python",
      "nbconvert_exporter": "python",
      "pygments_lexer": "ipython3",
      "version": "3.10.8"
    },
    "colab": {
      "provenance": []
    }
  },
  "nbformat": 4,
  "nbformat_minor": 5
}