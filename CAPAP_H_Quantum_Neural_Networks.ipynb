{
  "cells": [
    {
      "cell_type": "markdown",
      "id": "398a1114",
      "metadata": {
        "id": "398a1114"
      },
      "source": [
        "# QUANTUM NEURAL NETWORKS"
      ]
    },
    {
      "cell_type": "code",
      "execution_count": null,
      "id": "f3428229",
      "metadata": {
        "id": "f3428229"
      },
      "outputs": [],
      "source": [
        "pip install tensorflow==2.9.1"
      ]
    },
    {
      "cell_type": "code",
      "execution_count": null,
      "id": "2e9d0203",
      "metadata": {
        "scrolled": false,
        "id": "2e9d0203"
      },
      "outputs": [],
      "source": [
        "pip install pennylane==0.26"
      ]
    },
    {
      "cell_type": "code",
      "execution_count": null,
      "id": "6d229d9c",
      "metadata": {
        "id": "6d229d9c"
      },
      "outputs": [],
      "source": [
        "import pennylane as qml\n",
        "import numpy as np\n",
        "import tensorflow as tf\n",
        "\n",
        "seed = 1234\n",
        "np.random.seed(seed)\n",
        "tf.random.set_seed(seed)"
      ]
    },
    {
      "cell_type": "code",
      "execution_count": null,
      "id": "146e2244",
      "metadata": {
        "id": "146e2244"
      },
      "outputs": [],
      "source": [
        "tf.keras.backend.set_floatx('float64')"
      ]
    },
    {
      "cell_type": "code",
      "execution_count": null,
      "id": "91261677",
      "metadata": {
        "id": "91261677"
      },
      "outputs": [],
      "source": [
        "from sklearn.datasets import load_breast_cancer\n",
        "\n",
        "x,y = load_breast_cancer(return_X_y = True)"
      ]
    },
    {
      "cell_type": "code",
      "execution_count": null,
      "id": "b1912ddd",
      "metadata": {
        "id": "b1912ddd"
      },
      "outputs": [],
      "source": [
        "from sklearn.model_selection import train_test_split\n",
        "\n",
        "x_tr, x_test, y_tr, y_test = train_test_split(\n",
        "    x, y, train_size = 0.8)\n",
        "x_val, x_test, y_val, y_test = train_test_split(\n",
        "    x_test, y_test, train_size = 0.5)"
      ]
    },
    {
      "cell_type": "code",
      "execution_count": null,
      "id": "0f0c65b8",
      "metadata": {
        "id": "0f0c65b8"
      },
      "outputs": [],
      "source": [
        "from sklearn.decomposition import PCA\n",
        "\n",
        "pca = PCA(n_components = 4)\n",
        "\n",
        "xp_tr = pca.fit_transform(x_tr)\n",
        "xp_test = pca.transform(x_test)\n",
        "xp_val = pca.transform(x_val)"
      ]
    },
    {
      "cell_type": "code",
      "execution_count": null,
      "id": "d3254304",
      "metadata": {
        "id": "d3254304"
      },
      "outputs": [],
      "source": [
        "from sklearn.preprocessing import MaxAbsScaler\n",
        "\n",
        "scaler = MaxAbsScaler()\n",
        "xs_tr = scaler.fit_transform(xp_tr)"
      ]
    },
    {
      "cell_type": "code",
      "execution_count": null,
      "id": "be78524d",
      "metadata": {
        "id": "be78524d"
      },
      "outputs": [],
      "source": [
        "xs_test = scaler.transform(xp_test)\n",
        "xs_val = scaler.transform(xp_val)\n",
        "\n",
        "# Restrict all the values to be between -1 and 1.\n",
        "xs_test = np.clip(xs_test, -1, 1)\n",
        "xs_val = np.clip(xs_val, -1, 1)"
      ]
    },
    {
      "cell_type": "code",
      "execution_count": null,
      "id": "9c8784d2",
      "metadata": {
        "id": "9c8784d2"
      },
      "outputs": [],
      "source": [
        "from itertools import combinations\n",
        "\n",
        "def ZZFeatureMap(nqubits, data):\n",
        "\n",
        "    # Number of variables that we will load:\n",
        "    # could be smaller than the number of qubits.\n",
        "    nload = min(len(data), nqubits)\n",
        "\n",
        "    for i in range(nload):\n",
        "        qml.Hadamard(i)\n",
        "        qml.RZ(2.0 * data[i], wires = i)\n",
        "\n",
        "    for pair in list(combinations(range(nload), 2)):\n",
        "        q0 = pair[0]\n",
        "        q1 = pair[1]\n",
        "\n",
        "        qml.CZ(wires = [q0, q1])\n",
        "        qml.RZ(2.0 * (np.pi - data[q0]) *\n",
        "            (np.pi - data[q1]), wires = q1)\n",
        "        qml.CZ(wires = [q0, q1])\n",
        "\n",
        "def TwoLocal(nqubits, theta, reps = 1):\n",
        "\n",
        "    for r in range(reps):\n",
        "        for i in range(nqubits):\n",
        "            qml.RY(theta[r * nqubits + i], wires = i)\n",
        "        for i in range(nqubits - 1):\n",
        "            qml.CNOT(wires = [i, i + 1])\n",
        "\n",
        "    for i in range(nqubits):\n",
        "        qml.RY(theta[reps * nqubits + i], wires = i)"
      ]
    },
    {
      "cell_type": "code",
      "execution_count": null,
      "id": "d80d8616",
      "metadata": {
        "id": "d80d8616"
      },
      "outputs": [],
      "source": [
        "state_0 = [[1], [0]]\n",
        "M = state_0 * np.conj(state_0).T"
      ]
    },
    {
      "cell_type": "code",
      "execution_count": null,
      "id": "32087608",
      "metadata": {
        "id": "32087608"
      },
      "outputs": [],
      "source": [
        "nqubits = 4\n",
        "dev = qml.device(\"default.qubit\", wires=nqubits)\n",
        "\n",
        "def qnn_circuit(inputs, theta):\n",
        "    ZZFeatureMap(nqubits, inputs)\n",
        "    TwoLocal(nqubits = nqubits, theta = theta, reps = 1)\n",
        "    return qml.expval(qml.Hermitian(M, wires = [0]))\n",
        "\n",
        "qnn = qml.QNode(qnn_circuit, dev, interface=\"tf\")"
      ]
    },
    {
      "cell_type": "code",
      "execution_count": null,
      "id": "683d8d6a",
      "metadata": {
        "id": "683d8d6a"
      },
      "outputs": [],
      "source": [
        "weights = {\"theta\": 8}\n",
        "qlayer = qml.qnn.KerasLayer(qnn, weights, output_dim=1)"
      ]
    },
    {
      "cell_type": "code",
      "execution_count": null,
      "id": "0e37ed35",
      "metadata": {
        "id": "0e37ed35"
      },
      "outputs": [],
      "source": [
        "model = tf.keras.models.Sequential([qlayer])"
      ]
    },
    {
      "cell_type": "code",
      "execution_count": null,
      "id": "f7a38281",
      "metadata": {
        "id": "f7a38281"
      },
      "outputs": [],
      "source": [
        "opt = tf.keras.optimizers.Adam(learning_rate = 0.05)\n",
        "model.compile(opt, loss=tf.keras.losses.BinaryCrossentropy())"
      ]
    },
    {
      "cell_type": "code",
      "execution_count": null,
      "id": "11d8fde2",
      "metadata": {
        "id": "11d8fde2"
      },
      "outputs": [],
      "source": [
        "earlystop = tf.keras.callbacks.EarlyStopping(\n",
        "    monitor = \"val_loss\", patience = 2, verbose = 1,\n",
        "    restore_best_weights = True)"
      ]
    },
    {
      "cell_type": "code",
      "execution_count": null,
      "id": "23ba91a2",
      "metadata": {
        "id": "23ba91a2"
      },
      "outputs": [],
      "source": [
        "history = model.fit(xs_tr, y_tr, epochs = 10, shuffle = True,\n",
        "    validation_data = (xs_val, y_val),\n",
        "    batch_size = 20,\n",
        "    callbacks = [earlystop])"
      ]
    },
    {
      "cell_type": "code",
      "execution_count": null,
      "id": "4874ed16",
      "metadata": {
        "id": "4874ed16"
      },
      "outputs": [],
      "source": [
        "import matplotlib.pyplot as plt\n",
        "\n",
        "def plot_losses(history):\n",
        "    tr_loss = history.history[\"loss\"]\n",
        "    val_loss = history.history[\"val_loss\"]\n",
        "    epochs = np.array(range(len(tr_loss))) + 1\n",
        "    plt.plot(epochs, tr_loss, label = \"Training loss\")\n",
        "    plt.plot(epochs, val_loss, label = \"Validation loss\")\n",
        "    plt.xlabel(\"Epoch\")\n",
        "    plt.legend()\n",
        "    plt.show()\n",
        "\n",
        "plot_losses(history)"
      ]
    },
    {
      "cell_type": "code",
      "execution_count": null,
      "id": "0a4a4339",
      "metadata": {
        "id": "0a4a4339"
      },
      "outputs": [],
      "source": [
        "from sklearn.metrics import accuracy_score\n",
        "\n",
        "tr_acc = accuracy_score(model.predict(xs_tr) >= 0.5, y_tr)\n",
        "val_acc = accuracy_score(model.predict(xs_val) >= 0.5, y_val)\n",
        "test_acc = accuracy_score(model.predict(xs_test) >= 0.5, y_test)\n",
        "\n",
        "print(\"Train accuracy:\", tr_acc)\n",
        "print(\"Validation accuracy:\", val_acc)\n",
        "print(\"Test accuracy:\", test_acc)"
      ]
    }
  ],
  "metadata": {
    "kernelspec": {
      "display_name": "Python 3 (ipykernel)",
      "language": "python",
      "name": "python3"
    },
    "language_info": {
      "codemirror_mode": {
        "name": "ipython",
        "version": 3
      },
      "file_extension": ".py",
      "mimetype": "text/x-python",
      "name": "python",
      "nbconvert_exporter": "python",
      "pygments_lexer": "ipython3",
      "version": "3.10.8"
    },
    "colab": {
      "provenance": []
    }
  },
  "nbformat": 4,
  "nbformat_minor": 5
}