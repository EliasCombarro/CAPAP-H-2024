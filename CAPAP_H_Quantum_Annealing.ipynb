{
  "cells": [
    {
      "cell_type": "markdown",
      "metadata": {
        "id": "9Ld6xO_gU1GD"
      },
      "source": [
        "# QUANTUM ANNEALING"
      ]
    },
    {
      "cell_type": "code",
      "execution_count": null,
      "metadata": {
        "id": "SKFxM8wQANz2"
      },
      "outputs": [],
      "source": [
        "pip install dwave-ocean-sdk==6.0.1"
      ]
    },
    {
      "cell_type": "code",
      "execution_count": null,
      "metadata": {
        "id": "9WoQF03-EaGu"
      },
      "outputs": [],
      "source": [
        "!dwave config create"
      ]
    },
    {
      "cell_type": "code",
      "execution_count": null,
      "metadata": {
        "id": "UUFTKnf6FMb4"
      },
      "outputs": [],
      "source": [
        "import dimod\n",
        "J = {(0,1):1, (0,2):1}\n",
        "h = {}\n",
        "problem = dimod.BinaryQuadraticModel(h, J, 0.0, dimod.SPIN)\n",
        "print(\"The problem we are going to solve is:\")\n",
        "print(problem)\n"
      ]
    },
    {
      "cell_type": "code",
      "execution_count": null,
      "metadata": {
        "id": "qgAnVWndFlUT"
      },
      "outputs": [],
      "source": [
        "from dwave.system import DWaveSampler\n",
        "from dwave.system import EmbeddingComposite\n",
        "sampler = EmbeddingComposite(DWaveSampler())\n",
        "result = sampler.sample(problem, num_reads=10)\n",
        "print(\"The solutions that we have obtained are\")\n",
        "print(result)"
      ]
    },
    {
      "cell_type": "code",
      "execution_count": null,
      "metadata": {
        "id": "42ucb8VpFuKt"
      },
      "outputs": [],
      "source": [
        "x0 = dimod.Binary(\"x0\")\n",
        "x1 = dimod.Binary(\"x1\")\n",
        "x2 = dimod.Binary(\"x2\")"
      ]
    },
    {
      "cell_type": "code",
      "execution_count": null,
      "metadata": {
        "id": "7upiqt8eFzy3"
      },
      "outputs": [],
      "source": [
        "blp = dimod.ConstrainedQuadraticModel()\n",
        "blp.set_objective(-5*x0+3*x1-2*x2)\n",
        "blp.add_constraint(x0 + x2 <= 1, \"First constraint\")\n",
        "blp.add_constraint(3*x0 -x1 + 3*x2 <= 4, \"Second constraint\");"
      ]
    },
    {
      "cell_type": "code",
      "execution_count": null,
      "metadata": {
        "id": "hJF69F3LF5Dc"
      },
      "outputs": [],
      "source": [
        "print(\"Our variables are:\")\n",
        "print(blp.variables)\n",
        "print(\"Our objective is:\")\n",
        "print(blp.objective)\n",
        "print(\"Our constraints are:\")\n",
        "print(blp.constraints)"
      ]
    },
    {
      "cell_type": "code",
      "execution_count": null,
      "metadata": {
        "id": "V9Wtt3OlF_uK"
      },
      "outputs": [],
      "source": [
        "sample1 = {\"x0\":1, \"x1\":1, \"x2\":1}\n",
        "print(\"The assignment is\", sample1)\n",
        "print(\"Its cost is\", blp.objective.energy(sample1))\n",
        "print(\"Is it feasible?\",blp.check_feasible(sample1))\n",
        "print(\"The violations of the constraints are\")\n",
        "print(blp.violations(sample1))"
      ]
    },
    {
      "cell_type": "code",
      "execution_count": null,
      "metadata": {
        "id": "tam0h2V1GmP9"
      },
      "outputs": [],
      "source": [
        "sample2 = {\"x0\":0, \"x1\":0, \"x2\":1}\n",
        "print(\"The assignment is\", sample2)\n",
        "print(\"Its cost is\", blp.objective.energy(sample2))\n",
        "print(\"Is it feasible?\",blp.check_feasible(sample2))\n",
        "print(\"The violations of the constraints are\")\n",
        "print(blp.violations(sample2))"
      ]
    },
    {
      "cell_type": "code",
      "execution_count": null,
      "metadata": {
        "id": "xyQzxTkhGsZo"
      },
      "outputs": [],
      "source": [
        "solver = dimod.ExactCQMSolver()\n",
        "solution = solver.sample_cqm(blp)\n",
        "print(\"The list of assignments is\")\n",
        "print(solution)"
      ]
    },
    {
      "cell_type": "code",
      "execution_count": null,
      "metadata": {
        "id": "9dRF20ktG2Wf"
      },
      "outputs": [],
      "source": [
        "feasible_sols = solution.filter(lambda s: s.is_feasible)\n",
        "feasible_sols.first"
      ]
    },
    {
      "cell_type": "code",
      "execution_count": null,
      "metadata": {
        "id": "JSYjdRNuG_x5"
      },
      "outputs": [],
      "source": [
        "y0, y1 = dimod.Binaries([\"y0\", \"y1\"])\n",
        "cqm = dimod.ConstrainedQuadraticModel()\n",
        "cqm.set_objective(-2*y0-3*y1)\n",
        "cqm.add_constraint(y0 + 2*y1 <= 2);"
      ]
    },
    {
      "cell_type": "code",
      "execution_count": null,
      "metadata": {
        "id": "pJko6mDSHF63"
      },
      "outputs": [],
      "source": [
        "qubo, invert = dimod.cqm_to_bqm(cqm, lagrange_multiplier = 5)\n",
        "print(qubo)"
      ]
    },
    {
      "cell_type": "code",
      "execution_count": null,
      "metadata": {
        "id": "zeKwEoWxHJXz"
      },
      "outputs": [],
      "source": [
        "sampler = EmbeddingComposite(DWaveSampler())\n",
        "result = sampler.sample(qubo, num_reads=10)\n",
        "print(\"The solutions that we have obtained are\")\n",
        "print(result)"
      ]
    },
    {
      "cell_type": "code",
      "execution_count": null,
      "metadata": {
        "id": "FrhzIllgHQqz"
      },
      "outputs": [],
      "source": [
        "samples = []\n",
        "occurrences = []\n",
        "for s in result.data():\n",
        "    samples.append(invert(s.sample))\n",
        "    occurrences.append(s.num_occurrences)\n",
        "sampleset = dimod.SampleSet.from_samples_cqm(samples,cqm,\n",
        "    num_occurrences=occurrences)\n",
        "print(\"The solutions to the original problem are\")\n",
        "print(sampleset)"
      ]
    },
    {
      "cell_type": "code",
      "execution_count": null,
      "metadata": {
        "id": "PKDAg5bsHZCl"
      },
      "outputs": [],
      "source": [
        "final_sols = sampleset.filter(lambda s: s.is_feasible)\n",
        "final_sols = final_sols.aggregate()\n",
        "print(\"The final solutions are\")\n",
        "print(final_sols)"
      ]
    }
  ],
  "metadata": {
    "colab": {
      "provenance": []
    },
    "kernelspec": {
      "display_name": "Python 3 (ipykernel)",
      "language": "python",
      "name": "python3"
    },
    "language_info": {
      "codemirror_mode": {
        "name": "ipython",
        "version": 3
      },
      "file_extension": ".py",
      "mimetype": "text/x-python",
      "name": "python",
      "nbconvert_exporter": "python",
      "pygments_lexer": "ipython3",
      "version": "3.10.8"
    }
  },
  "nbformat": 4,
  "nbformat_minor": 0
}